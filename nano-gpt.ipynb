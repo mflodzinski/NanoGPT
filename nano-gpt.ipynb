{
 "cells": [
  {
   "cell_type": "code",
   "execution_count": 1,
   "id": "initial_id",
   "metadata": {
    "ExecuteTime": {
     "end_time": "2024-02-19T22:47:19.178250Z",
     "start_time": "2024-02-19T22:47:19.176152Z"
    },
    "collapsed": true
   },
   "outputs": [],
   "source": [
    "from src.data import Data\n",
    "from src.transformer import Transformer\n",
    "from src.utils import AttrDict\n",
    "import yaml"
   ]
  },
  {
   "cell_type": "code",
   "execution_count": 2,
   "id": "da4ba0ba",
   "metadata": {},
   "outputs": [],
   "source": [
    "configfile = open('config/config.yaml')\n",
    "config = AttrDict(yaml.load(configfile, Loader=yaml.FullLoader))"
   ]
  },
  {
   "cell_type": "code",
   "execution_count": 3,
   "id": "5ecef21be216271d",
   "metadata": {
    "ExecuteTime": {
     "end_time": "2024-02-19T22:50:51.553130Z",
     "start_time": "2024-02-19T22:50:51.550276Z"
    },
    "collapsed": false
   },
   "outputs": [],
   "source": [
    "\n",
    "data = Data(**config.data, block_size=config.model.block_size)\n",
    "model = Transformer(**config.model, vocab_size=data.vocab_size)"
   ]
  },
  {
   "cell_type": "code",
   "execution_count": 7,
   "id": "334621d365506112",
   "metadata": {
    "ExecuteTime": {
     "end_time": "2024-02-19T22:52:37.074237Z",
     "start_time": "2024-02-19T22:52:37.071579Z"
    },
    "collapsed": false
   },
   "outputs": [
    {
     "ename": "NameError",
     "evalue": "name 'data' is not defined",
     "output_type": "error",
     "traceback": [
      "\u001b[0;31m---------------------------------------------------------------------------\u001b[0m",
      "\u001b[0;31mNameError\u001b[0m                                 Traceback (most recent call last)",
      "Cell \u001b[0;32mIn[7], line 1\u001b[0m\n\u001b[0;32m----> 1\u001b[0m train_data, validation_data \u001b[38;5;241m=\u001b[39m \u001b[43mdata\u001b[49m\u001b[38;5;241m.\u001b[39msplit_data()\n\u001b[1;32m      2\u001b[0m train_data \u001b[38;5;241m=\u001b[39m data\u001b[38;5;241m.\u001b[39mtokenizer\u001b[38;5;241m.\u001b[39mencode(train_data)\n\u001b[1;32m      3\u001b[0m validation_data \u001b[38;5;241m=\u001b[39m data\u001b[38;5;241m.\u001b[39mtokenizer\u001b[38;5;241m.\u001b[39mencode(validation_data)\n",
      "\u001b[0;31mNameError\u001b[0m: name 'data' is not defined"
     ]
    }
   ],
   "source": [
    "train_data, validation_data = data.split_data()\n",
    "train_data = data.tokenizer.encode(train_data)\n",
    "validation_data = data.tokenizer.encode(validation_data)"
   ]
  },
  {
   "cell_type": "code",
   "execution_count": 5,
   "id": "416b53bc12fe7b77",
   "metadata": {
    "collapsed": false
   },
   "outputs": [
    {
     "name": "stdout",
     "output_type": "stream",
     "text": [
      "[tensor(1.7990), tensor(1.9385)]\n"
     ]
    }
   ],
   "source": [
    "model.train_model(**config.train, data=data)\n",
    "estimated_loss = model.estimate_loss(data, config.train.epochs)\n",
    "print(estimated_loss)"
   ]
  },
  {
   "cell_type": "code",
   "execution_count": 8,
   "id": "b7ce6cda",
   "metadata": {},
   "outputs": [
    {
     "name": "stdout",
     "output_type": "stream",
     "text": [
      "\n",
      "O it wommon my longster'd'd fathing, my hermis cwand hast, ard'd,\n",
      "We there, not which thy shice: andtristy of abse, Stirsich!\n",
      "I elpoil prony I'll chen,\n",
      "Fare, king fling they at do were this hat is dest a riacers\n",
      "As his wornmother flaul\n",
      "Will merding G will changess.\n",
      "\n",
      "Meserse JULINCE:\n",
      "Crerue, whoth I'll callave ofd\n",
      "But your sobly some,\n",
      "He gardy arge:\n",
      "An!\n",
      "\n",
      "No my dubdertenten your canssixerts not his, us\n",
      "Your weree the meon,\n",
      "That wart all him;\n",
      "Clapktion,\n",
      "IGcontle ter same henouse knows.\n",
      "\n",
      "Scompystanck:\n",
      "Lord's sin; thy aighters carful his 'twerse: hearth earnow the upon, well'd it we'll spehe rilseland.\n",
      "\n",
      "DU POMINAS:\n",
      "D yo blove the chem; by terrow\n",
      "Ip do to her fatherch,\n",
      "\n",
      "Appienew and be dear his conter ander-chor?\n",
      "Come whis we and fwellechaless.\n",
      "\n",
      "Let\n",
      "HASTINIUS:\n",
      "Thatw wan heart lovenr;\n",
      "For my latu\n"
     ]
    }
   ],
   "source": [
    "idx = model.generate(config.rest.max_new_tokens)[0]\n",
    "text = data.tokenizer.decode(idx)\n",
    "print(text)"
   ]
  },
  {
   "cell_type": "code",
   "execution_count": null,
   "id": "e1bbf56b",
   "metadata": {},
   "outputs": [],
   "source": []
  }
 ],
 "metadata": {
  "kernelspec": {
   "display_name": "Python 3",
   "language": "python",
   "name": "python3"
  },
  "language_info": {
   "codemirror_mode": {
    "name": "ipython",
    "version": 3
   },
   "file_extension": ".py",
   "mimetype": "text/x-python",
   "name": "python",
   "nbconvert_exporter": "python",
   "pygments_lexer": "ipython3",
   "version": "3.10.13"
  }
 },
 "nbformat": 4,
 "nbformat_minor": 5
}
